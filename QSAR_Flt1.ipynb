{
  "nbformat": 4,
  "nbformat_minor": 0,
  "metadata": {
    "colab": {
      "name": "Cleanedcode.ipynb",
      "provenance": [],
      "collapsed_sections": [],
      "toc_visible": true,
      "include_colab_link": true
    },
    "kernelspec": {
      "display_name": "Python 3",
      "name": "python3"
    },
    "language_info": {
      "name": "python"
    }
  },
  "cells": [
    {
      "cell_type": "markdown",
      "metadata": {
        "id": "view-in-github",
        "colab_type": "text"
      },
      "source": [
        "<a href=\"https://colab.research.google.com/github/PreshitaDave/QSAR-model-for-FLT1/blob/main/QSAR_Flt1.ipynb\" target=\"_parent\"><img src=\"https://colab.research.google.com/assets/colab-badge.svg\" alt=\"Open In Colab\"/></a>"
      ]
    },
    {
      "cell_type": "markdown",
      "metadata": {
        "id": "6N0ybbPalFng"
      },
      "source": [
        "# **PART** **1 - DATA COLLECTION**"
      ]
    },
    {
      "cell_type": "markdown",
      "metadata": {
        "id": "0DNjKZfMlIc6"
      },
      "source": [
        "This is to Install the ChEMBL web service package so that we can retrieve bioactivity data from the ChEMBL Database."
      ]
    },
    {
      "cell_type": "code",
      "metadata": {
        "id": "rIR20o_ik4nm"
      },
      "source": [
        "! pip install chembl_webresource_client"
      ],
      "execution_count": null,
      "outputs": []
    },
    {
      "cell_type": "markdown",
      "metadata": {
        "id": "JxNEal9EnsmZ"
      },
      "source": [
        "Import the necessary libraries"
      ]
    },
    {
      "cell_type": "code",
      "metadata": {
        "id": "lPusvaXhnu-q"
      },
      "source": [
        "import pandas as pd\n",
        "from chembl_webresource_client.new_client import new_client"
      ],
      "execution_count": null,
      "outputs": []
    },
    {
      "cell_type": "markdown",
      "metadata": {
        "id": "VtEe-Yran3yW"
      },
      "source": [
        "Target Search"
      ]
    },
    {
      "cell_type": "code",
      "metadata": {
        "id": "GWsZut4bn55c"
      },
      "source": [
        "target = new_client.target\n",
        "target_query = target.search('Flt1')\n",
        "targets = pd.DataFrame.from_dict(target_query)"
      ],
      "execution_count": null,
      "outputs": []
    },
    {
      "cell_type": "markdown",
      "metadata": {
        "id": "M0eEqeDpoB8w"
      },
      "source": [
        "Select the required target"
      ]
    },
    {
      "cell_type": "code",
      "metadata": {
        "id": "w-HjFUxAoEX_"
      },
      "source": [
        "selected_target = targets.target_chembl_id[0]"
      ],
      "execution_count": null,
      "outputs": []
    },
    {
      "cell_type": "markdown",
      "metadata": {
        "id": "3obfhttFoNYx"
      },
      "source": [
        "Here, we will retrieve only bioactivity data for FLT1(CHEMBL1868) that are reported as IC50  values in nM (nanomolar) unit."
      ]
    },
    {
      "cell_type": "code",
      "metadata": {
        "id": "drDzi3WnoVwY"
      },
      "source": [
        "activity = new_client.activity\n",
        "res = activity.filter(target_chembl_id=selected_target).filter(standard_type=\"IC50\")\n",
        "df = pd.DataFrame.from_dict(res)"
      ],
      "execution_count": null,
      "outputs": []
    },
    {
      "cell_type": "code",
      "metadata": {
        "id": "Q1pUxQBnsFPz"
      },
      "source": [
        "df.to_csv('bioactivity_data.csv', index=False)"
      ],
      "execution_count": null,
      "outputs": []
    },
    {
      "cell_type": "markdown",
      "metadata": {
        "id": "o0IkTwEGsLkb"
      },
      "source": [
        "Firstly, we need to mount the Google Drive into Colab so that we can have access to our Google adrive from within Colab."
      ]
    },
    {
      "cell_type": "code",
      "metadata": {
        "id": "sajgajI2sMqY"
      },
      "source": [
        "from google.colab import drive\n",
        "drive.mount('/content/gdrive/', force_remount=True)"
      ],
      "execution_count": null,
      "outputs": []
    },
    {
      "cell_type": "markdown",
      "metadata": {
        "id": "eOSoxX4psZ7Z"
      },
      "source": [
        "Next, we create a data folder in our Colab Notebooks folder on Google Drive."
      ]
    },
    {
      "cell_type": "code",
      "metadata": {
        "id": "sG5qfDo4976v"
      },
      "source": [
        "! mkdir \"/content/gdrive/My Drive/Colab Notebooks/Major_project\""
      ],
      "execution_count": null,
      "outputs": []
    },
    {
      "cell_type": "code",
      "metadata": {
        "id": "IZyyDxWb-ELS"
      },
      "source": [
        "! cp bioactivity_data.csv \"/content/gdrive/My Drive/Colab Notebooks/Major_project\"\n",
        "! ls -l \"/content/gdrive/My Drive/Colab Notebooks/Major_project\"\n",
        "! ls\n",
        "! head bioactivity_data.csv"
      ],
      "execution_count": null,
      "outputs": []
    },
    {
      "cell_type": "markdown",
      "metadata": {
        "id": "ELK04L4EErcK"
      },
      "source": [
        "**DATA PRE-PROCESSING OF THE BIOACTIVITY DATA**"
      ]
    },
    {
      "cell_type": "markdown",
      "metadata": {
        "id": "82ZrryrRAmch"
      },
      "source": [
        "Handling Missing data"
      ]
    },
    {
      "cell_type": "code",
      "metadata": {
        "id": "cMuqCNov4OYc"
      },
      "source": [
        "df2 = df[df.standard_value.notna()]\n",
        "df2_final = df2[df2.canonical_smiles.notna()]\n",
        "df2_final = df2_final.reset_index()"
      ],
      "execution_count": null,
      "outputs": []
    },
    {
      "cell_type": "markdown",
      "metadata": {
        "id": "IRwXvnE_Et3i"
      },
      "source": [
        "Labeling compounds as either being active, inactive or intermediate"
      ]
    },
    {
      "cell_type": "markdown",
      "metadata": {
        "id": "VZZlSGBIH5PI"
      },
      "source": [
        "Labeling compounds as either being active or inactive.\n",
        "The bioactivity data is in the IC50 unit. Compounds having values of less than 1000 nM will be considered to be active while those greater than 1000 nM will be considered to be inactive."
      ]
    },
    {
      "cell_type": "code",
      "metadata": {
        "id": "o_pSmYhFHuFI"
      },
      "source": [
        "bioactivity_class = []\n",
        "for i in df2_final.standard_value:\n",
        "  if float(i) > 1000:\n",
        "    bioactivity_class.append(\"inactive\")\n",
        "  elif float(i) <= 1000:\n",
        "    bioactivity_class.append(\"active\")"
      ],
      "execution_count": null,
      "outputs": []
    },
    {
      "cell_type": "markdown",
      "metadata": {
        "id": "QQQ9bFsTExI5"
      },
      "source": [
        "Iterate the molecule_chembl_id to a list"
      ]
    },
    {
      "cell_type": "code",
      "metadata": {
        "id": "daXegoWKE8jc"
      },
      "source": [
        "selection = ['molecule_chembl_id', 'canonical_smiles', 'standard_value']\n",
        "df3 = df2_final[selection]\n",
        "df3['bioactivity_class'] = pd.Series(bioactivity_class)"
      ],
      "execution_count": null,
      "outputs": []
    },
    {
      "cell_type": "code",
      "metadata": {
        "id": "6neojadfI74T"
      },
      "source": [
        "df3.to_csv('bioactivity_preprocessed_data.csv', index=False)"
      ],
      "execution_count": null,
      "outputs": []
    },
    {
      "cell_type": "code",
      "metadata": {
        "id": "ysh4uUfiJD8n"
      },
      "source": [
        "! cp bioactivity_preprocessed_data.csv \"/content/gdrive/My Drive/Colab Notebooks/Major_project\""
      ],
      "execution_count": null,
      "outputs": []
    },
    {
      "cell_type": "code",
      "metadata": {
        "id": "GrpwsO7UJIot"
      },
      "source": [
        "! ls \"/content/gdrive/My Drive/Colab Notebooks/Major_project\""
      ],
      "execution_count": null,
      "outputs": []
    },
    {
      "cell_type": "markdown",
      "metadata": {
        "id": "Z0ZB0LAGLP8T"
      },
      "source": [
        "# **PART** **2 - EXPLORATORY DATA ANALYSIS**"
      ]
    },
    {
      "cell_type": "markdown",
      "metadata": {
        "id": "o6SvgbbgLQ-k"
      },
      "source": [
        "Install conda and rdkit libraries"
      ]
    },
    {
      "cell_type": "code",
      "metadata": {
        "id": "ifhW0Zy6LmfU"
      },
      "source": [
        "! wget https://repo.anaconda.com/miniconda/Miniconda3-py37_4.8.2-Linux-x86_64.sh\n",
        "! chmod +x Miniconda3-py37_4.8.2-Linux-x86_64.sh\n",
        "! bash ./Miniconda3-py37_4.8.2-Linux-x86_64.sh -b -f -p /usr/local\n",
        "! conda install -c rdkit rdkit -y\n",
        "import sys\n",
        "sys.path.append('/usr/local/lib/python3.7/site-packages/')"
      ],
      "execution_count": null,
      "outputs": []
    },
    {
      "cell_type": "markdown",
      "metadata": {
        "id": "t3VHTyfYNJoZ"
      },
      "source": [
        "Load the bioactivity data"
      ]
    },
    {
      "cell_type": "code",
      "metadata": {
        "id": "6SR8rVcQNK3O"
      },
      "source": [
        "import pandas as pd\n",
        "df = pd.read_csv('bioactivity_preprocessed_data.csv')\n",
        "df=df.dropna()\n",
        "df.shape"
      ],
      "execution_count": null,
      "outputs": []
    },
    {
      "cell_type": "markdown",
      "metadata": {
        "id": "xP26EJ3YUMKU"
      },
      "source": [
        "Import other libraries"
      ]
    },
    {
      "cell_type": "code",
      "metadata": {
        "id": "QStctOhsULNk"
      },
      "source": [
        "import numpy as np\n",
        "from rdkit import Chem\n",
        "from rdkit.Chem import Descriptors, Lipinski"
      ],
      "execution_count": null,
      "outputs": []
    },
    {
      "cell_type": "markdown",
      "metadata": {
        "id": "1IlhP6gCXRpk"
      },
      "source": [
        "Calculate Lipinski descriptors"
      ]
    },
    {
      "cell_type": "code",
      "metadata": {
        "id": "Gqd6u8aBXQDZ"
      },
      "source": [
        "def lipinski(smiles, verbose=False):\n",
        "\n",
        "    moldata= []\n",
        "    for elem in smiles:\n",
        "        mol=Chem.MolFromSmiles(elem) \n",
        "        moldata.append(mol)\n",
        "       \n",
        "    baseData= np.arange(1,1)\n",
        "    i=0  \n",
        "    for mol in moldata:        \n",
        "       \n",
        "        desc_MolWt = Descriptors.MolWt(mol)\n",
        "        desc_MolLogP = Descriptors.MolLogP(mol)\n",
        "        desc_NumHDonors = Lipinski.NumHDonors(mol)\n",
        "        desc_NumHAcceptors = Lipinski.NumHAcceptors(mol)\n",
        "           \n",
        "        row = np.array([desc_MolWt,\n",
        "                        desc_MolLogP,\n",
        "                        desc_NumHDonors,\n",
        "                        desc_NumHAcceptors])   \n",
        "    \n",
        "        if(i==0):\n",
        "            baseData=row\n",
        "        else:\n",
        "            baseData=np.vstack([baseData, row])\n",
        "        i=i+1      \n",
        "    \n",
        "    columnNames=[\"MW\",\"LogP\",\"NumHDonors\",\"NumHAcceptors\"]   \n",
        "    descriptors = pd.DataFrame(data=baseData,columns=columnNames)\n",
        "    \n",
        "    return descriptors\n",
        "\n",
        "df_lipinski = lipinski(df.canonical_smiles)\n",
        "df_lipinski\n"
      ],
      "execution_count": null,
      "outputs": []
    },
    {
      "cell_type": "code",
      "metadata": {
        "id": "CGZS6mIVYKk3"
      },
      "source": [
        "#combine both dfs\n",
        "df_combined = pd.concat([df,df_lipinski], axis=1)"
      ],
      "execution_count": null,
      "outputs": []
    },
    {
      "cell_type": "markdown",
      "metadata": {
        "id": "bR_X-q7wYkgC"
      },
      "source": [
        "Convert IC50 to pIC50"
      ]
    },
    {
      "cell_type": "code",
      "metadata": {
        "id": "G71lcwJDYg1P"
      },
      "source": [
        "import numpy as np\n",
        "\n",
        "def pIC50(input):\n",
        "    pIC50 = []\n",
        "\n",
        "    for i in input['standard_value_norm']:\n",
        "        molar = i*(10**-9) # Converts nM to M\n",
        "        pIC50.append(-np.log10(molar))\n",
        "\n",
        "    input['pIC50'] = pIC50\n",
        "    x = input.drop('standard_value_norm', 1)\n",
        "        \n",
        "    return x\n",
        "\n",
        "df_combined"
      ],
      "execution_count": null,
      "outputs": []
    },
    {
      "cell_type": "code",
      "metadata": {
        "id": "R9jZVSdHbpvN"
      },
      "source": [
        "df_combined.standard_value.describe()"
      ],
      "execution_count": null,
      "outputs": []
    },
    {
      "cell_type": "markdown",
      "metadata": {
        "id": "Q7ujHk6gcG8J"
      },
      "source": [
        "Point to note: Values greater than 100,000,000 will be fixed at 100,000,000 otherwise the negative logarithmic value will become negative."
      ]
    },
    {
      "cell_type": "code",
      "metadata": {
        "id": "R8wkRS4CcHqt"
      },
      "source": [
        "def norm_value(input):\n",
        "    norm = []\n",
        "\n",
        "    for i in input['standard_value']:\n",
        "        if i > 100000000:\n",
        "          i = 100000000\n",
        "        norm.append(i)\n",
        "\n",
        "    input['standard_value_norm'] = norm\n",
        "    x = input.drop('standard_value', 1)\n",
        "        \n",
        "    return x"
      ],
      "execution_count": null,
      "outputs": []
    },
    {
      "cell_type": "markdown",
      "metadata": {
        "id": "MZ_iDbT_cOS4"
      },
      "source": [
        "We will first apply the norm_value() function so that the values in the standard_value column is normalized."
      ]
    },
    {
      "cell_type": "code",
      "metadata": {
        "id": "TIQdPGD1cO_a"
      },
      "source": [
        "df_norm = norm_value(df_combined)"
      ],
      "execution_count": null,
      "outputs": []
    },
    {
      "cell_type": "code",
      "metadata": {
        "id": "0tU88Tu2fqdp"
      },
      "source": [
        "df_norm.standard_value_norm.describe()"
      ],
      "execution_count": null,
      "outputs": []
    },
    {
      "cell_type": "code",
      "metadata": {
        "id": "EuvLyX_sk_cA"
      },
      "source": [
        "df_final = pIC50(df_norm)"
      ],
      "execution_count": null,
      "outputs": []
    },
    {
      "cell_type": "code",
      "metadata": {
        "id": "yBRwHBXRVrUh"
      },
      "source": [
        "df_final.to_csv('bioactivity_data_3class_pIC50.csv')"
      ],
      "execution_count": null,
      "outputs": []
    },
    {
      "cell_type": "code",
      "metadata": {
        "id": "abA_6LHtlETq"
      },
      "source": [
        "df_final.pIC50.describe()"
      ],
      "execution_count": null,
      "outputs": []
    },
    {
      "cell_type": "markdown",
      "metadata": {
        "id": "FfprAzkK2HNo"
      },
      "source": [
        "Importing libraries for visualization"
      ]
    },
    {
      "cell_type": "code",
      "metadata": {
        "id": "srHLdVCClR5g"
      },
      "source": [
        "import seaborn as sns\n",
        "sns.set(style='ticks')\n",
        "import matplotlib.pyplot as plt"
      ],
      "execution_count": null,
      "outputs": []
    },
    {
      "cell_type": "markdown",
      "metadata": {
        "id": "P80uaLQd35qJ"
      },
      "source": [
        "Frequency plot of bioactive classes"
      ]
    },
    {
      "cell_type": "code",
      "metadata": {
        "id": "5uJZZTzeDpLY"
      },
      "source": [
        "plt.figure(figsize=(5.5, 5.5))\n",
        "\n",
        "sns.countplot(x='bioactivity_class', data=df_2class, edgecolor='black')\n",
        "\n",
        "plt.xlabel('Bioactivity class', fontsize=14, fontweight='bold')\n",
        "plt.ylabel('Frequency', fontsize=14, fontweight='bold')\n",
        "\n",
        "plt.savefig('plot_bioactivity_class.pdf')"
      ],
      "execution_count": null,
      "outputs": []
    },
    {
      "cell_type": "markdown",
      "metadata": {
        "id": "jJPU19F7F749"
      },
      "source": [
        "Scatter plot of MW versus LogP"
      ]
    },
    {
      "cell_type": "code",
      "metadata": {
        "id": "c3unkEvDF8kZ"
      },
      "source": [
        "plt.figure(figsize=(5.5, 5.5))\n",
        "\n",
        "sns.scatterplot(x='MW', y='LogP', data=df_2class, hue='bioactivity_class', size='pIC50', edgecolor='black', alpha=0.7)\n",
        "\n",
        "plt.xlabel('MW', fontsize=14, fontweight='bold')\n",
        "plt.ylabel('LogP', fontsize=14, fontweight='bold')\n",
        "plt.legend(bbox_to_anchor=(1.05, 1), loc=2, borderaxespad=0)\n",
        "plt.savefig('plot_MW_vs_LogP.pdf')"
      ],
      "execution_count": null,
      "outputs": []
    },
    {
      "cell_type": "markdown",
      "metadata": {
        "id": "VlkJIuEsHcfk"
      },
      "source": [
        "Creating Box Plots for the following: "
      ]
    },
    {
      "cell_type": "markdown",
      "metadata": {
        "id": "Gz2KHzb3HeM0"
      },
      "source": [
        "(a) pIC50 value"
      ]
    },
    {
      "cell_type": "code",
      "metadata": {
        "id": "AZ2IW4EtHjQt"
      },
      "source": [
        "plt.figure(figsize=(5.5, 5.5))\n",
        "\n",
        "sns.boxplot(x = 'bioactivity_class', y = 'pIC50', data = df_2class)\n",
        "\n",
        "plt.xlabel('Bioactivity class', fontsize=14, fontweight='bold')\n",
        "plt.ylabel('pIC50 value', fontsize=14, fontweight='bold')\n",
        "\n",
        "plt.savefig('plot_ic50.pdf')"
      ],
      "execution_count": null,
      "outputs": []
    },
    {
      "cell_type": "markdown",
      "metadata": {
        "id": "KM_B_5H0MKt1"
      },
      "source": [
        "(b) MW"
      ]
    },
    {
      "cell_type": "code",
      "metadata": {
        "id": "38raHs0sMIwU"
      },
      "source": [
        "plt.figure(figsize=(5.5, 5.5))\n",
        "\n",
        "sns.boxplot(x = 'bioactivity_class', y = 'MW', data = df_2class)\n",
        "\n",
        "plt.xlabel('Bioactivity class', fontsize=14, fontweight='bold')\n",
        "plt.ylabel('MW', fontsize=14, fontweight='bold')\n",
        "\n",
        "plt.savefig('plot_MW.pdf')"
      ],
      "execution_count": null,
      "outputs": []
    },
    {
      "cell_type": "markdown",
      "metadata": {
        "id": "cOPfJOsKNrWx"
      },
      "source": [
        "(c) LogP"
      ]
    },
    {
      "cell_type": "code",
      "metadata": {
        "id": "2EHDCZ2TNsmf"
      },
      "source": [
        "plt.figure(figsize=(5.5, 5.5))\n",
        "\n",
        "sns.boxplot(x = 'bioactivity_class', y = 'LogP', data = df_2class)\n",
        "\n",
        "plt.xlabel('Bioactivity class', fontsize=14, fontweight='bold')\n",
        "plt.ylabel('LogP', fontsize=14, fontweight='bold')\n",
        "\n",
        "plt.savefig('plot_LogP.pdf')"
      ],
      "execution_count": null,
      "outputs": []
    },
    {
      "cell_type": "markdown",
      "metadata": {
        "id": "IfhiTKEoPDqg"
      },
      "source": [
        "(d) NumHDonors"
      ]
    },
    {
      "cell_type": "code",
      "metadata": {
        "id": "M8wVE2E5PEfS"
      },
      "source": [
        "plt.figure(figsize=(5.5, 5.5))\n",
        "\n",
        "sns.boxplot(x = 'bioactivity_class', y = 'NumHDonors', data = df_2class)\n",
        "\n",
        "plt.xlabel('Bioactivity class', fontsize=14, fontweight='bold')\n",
        "plt.ylabel('NumHDonors', fontsize=14, fontweight='bold')\n",
        "\n",
        "plt.savefig('plot_NumHDonors.pdf')"
      ],
      "execution_count": null,
      "outputs": []
    },
    {
      "cell_type": "markdown",
      "metadata": {
        "id": "9FxOJ-zjPN95"
      },
      "source": [
        "(e) NumHAcceptors"
      ]
    },
    {
      "cell_type": "code",
      "metadata": {
        "id": "eMi75mxMPMxF"
      },
      "source": [
        "plt.figure(figsize=(5.5, 5.5))\n",
        "\n",
        "sns.boxplot(x = 'bioactivity_class', y = 'NumHAcceptors', data = df_2class)\n",
        "\n",
        "plt.xlabel('Bioactivity class', fontsize=14, fontweight='bold')\n",
        "plt.ylabel('NumHAcceptors', fontsize=14, fontweight='bold')\n",
        "\n",
        "plt.savefig('plot_NumHAcceptors.pdf')"
      ],
      "execution_count": null,
      "outputs": []
    },
    {
      "cell_type": "markdown",
      "metadata": {
        "id": "yAEIjfA9PVUL"
      },
      "source": [
        "Downloading all files"
      ]
    },
    {
      "cell_type": "code",
      "metadata": {
        "id": "hGo1YOuQPX4T"
      },
      "source": [
        "! zip -r results.zip . -i *.csv *.pdf"
      ],
      "execution_count": null,
      "outputs": []
    },
    {
      "cell_type": "markdown",
      "metadata": {
        "id": "OcukpS2dQ70V"
      },
      "source": [
        "# **PART 3 - DESCRIPTOR DATA PREPARATION**\n",
        "\n"
      ]
    },
    {
      "cell_type": "markdown",
      "metadata": {
        "id": "sUBOsa9WSPxh"
      },
      "source": [
        "Download PaDEL-Descriptor"
      ]
    },
    {
      "cell_type": "code",
      "metadata": {
        "id": "NBmJ6iLGRFR3"
      },
      "source": [
        "! wget https://github.com/dataprofessor/bioinformatics/raw/master/padel.zip\n",
        "! wget https://github.com/dataprofessor/bioinformatics/raw/master/padel.sh"
      ],
      "execution_count": null,
      "outputs": []
    },
    {
      "cell_type": "code",
      "metadata": {
        "id": "YgnNYbARS5jx"
      },
      "source": [
        "! unzip padel.zip"
      ],
      "execution_count": null,
      "outputs": []
    },
    {
      "cell_type": "markdown",
      "metadata": {
        "id": "uf-YaUZUS8uo"
      },
      "source": [
        "Load bioactivity data"
      ]
    },
    {
      "cell_type": "code",
      "metadata": {
        "id": "wU4Qvup_S9WA"
      },
      "source": [
        "import pandas as pd\n",
        "df3 = pd.read_csv('bioactivity_data_3class_pIC50.csv')"
      ],
      "execution_count": null,
      "outputs": []
    },
    {
      "cell_type": "code",
      "metadata": {
        "id": "Ta7CmT8d9wvV"
      },
      "source": [
        "selection = ['canonical_smiles','molecule_chembl_id']\n",
        "df3_selection = df3[selection]\n",
        "df3_selection.to_csv('molecule.smi', sep='\\t', index=False, header=False)"
      ],
      "execution_count": null,
      "outputs": []
    },
    {
      "cell_type": "markdown",
      "metadata": {
        "id": "R7ZV2rwWjnGw"
      },
      "source": [
        "Calculate PaDEL descriptors"
      ]
    },
    {
      "cell_type": "code",
      "metadata": {
        "id": "ZMwCOrV2lICX"
      },
      "source": [
        "! cat padel.sh"
      ],
      "execution_count": null,
      "outputs": []
    },
    {
      "cell_type": "code",
      "metadata": {
        "id": "OWX4Hucsjmiv"
      },
      "source": [
        "! bash padel.sh"
      ],
      "execution_count": null,
      "outputs": []
    },
    {
      "cell_type": "markdown",
      "metadata": {
        "id": "ceqXP8kPnDIz"
      },
      "source": [
        "**Preparing the X and Y data matrices**"
      ]
    },
    {
      "cell_type": "markdown",
      "metadata": {
        "id": "qjxrpbubnFnC"
      },
      "source": [
        "**Preparing X data matrix**"
      ]
    },
    {
      "cell_type": "code",
      "metadata": {
        "id": "G_YlPyIAmxyv"
      },
      "source": [
        "df3_X = pd.read_csv('descriptors_output.csv')"
      ],
      "execution_count": null,
      "outputs": []
    },
    {
      "cell_type": "code",
      "metadata": {
        "id": "29ohrIzjm-ZN"
      },
      "source": [
        "df3_X = df3_X.drop(columns=['Name'])"
      ],
      "execution_count": null,
      "outputs": []
    },
    {
      "cell_type": "markdown",
      "metadata": {
        "id": "S3QgJOv0nZkf"
      },
      "source": [
        "**Y variable**"
      ]
    },
    {
      "cell_type": "markdown",
      "metadata": {
        "id": "Yd_CQ8tCIHPq"
      },
      "source": [
        "Convert IC50 to pIC50"
      ]
    },
    {
      "cell_type": "code",
      "metadata": {
        "id": "Ns1xdi4UIFZ8"
      },
      "source": [
        "df3_Y = df3['pIC50']"
      ],
      "execution_count": null,
      "outputs": []
    },
    {
      "cell_type": "markdown",
      "metadata": {
        "id": "p5OaV7YWJNUZ"
      },
      "source": [
        "*Combining X and Y variable*"
      ]
    },
    {
      "cell_type": "code",
      "metadata": {
        "id": "-koD4XmgJVvN"
      },
      "source": [
        "dataset3 = pd.concat([df3_X,df3_Y], axis=1)"
      ],
      "execution_count": null,
      "outputs": []
    },
    {
      "cell_type": "markdown",
      "metadata": {
        "id": "Tb69q8LrJbbg"
      },
      "source": [
        "Save the csv file"
      ]
    },
    {
      "cell_type": "code",
      "metadata": {
        "id": "uEBk2C9oJakF"
      },
      "source": [
        "dataset3.to_csv('bioactivity_data_3class_pIC50_pubchem_fp.csv', index=False)"
      ],
      "execution_count": null,
      "outputs": []
    },
    {
      "cell_type": "code",
      "metadata": {
        "id": "C-x049fJJZ0A"
      },
      "source": [
        "! cp bioactivity_data_3class_pIC50_pubchem_fp.csv \"/content/gdrive/My Drive/Colab Notebooks/Major_project\""
      ],
      "execution_count": null,
      "outputs": []
    },
    {
      "cell_type": "markdown",
      "metadata": {
        "id": "ReY3lKHY4YZX"
      },
      "source": [
        "**Generating the descriptor dataset for Ledum Palustre metabolites**"
      ]
    },
    {
      "cell_type": "markdown",
      "metadata": {
        "id": "DBpGFEnZ5DN4"
      },
      "source": [
        "Remove the molecule.smi (contains the training dataset SMILES) before calculating descriptors for smiles.smi (contains the smiles for the 36 metabolites from Ledum Palustre)"
      ]
    },
    {
      "cell_type": "code",
      "metadata": {
        "id": "eXpngNeh5Txc"
      },
      "source": [
        "!rm molecule.smi"
      ],
      "execution_count": null,
      "outputs": []
    },
    {
      "cell_type": "code",
      "metadata": {
        "id": "6BIFsPzXe-tM"
      },
      "source": [
        "import pandas as pd\n",
        "ledum_pal=pd.read_csv(\"/content/gdrive/My Drive/Colab Notebooks/Major_project/smiles_wo_dupli.smi\", header=None)\n",
        "ledum_pal.to_csv('smiles_ledum.smi', sep='\\t', index=False, header=False)"
      ],
      "execution_count": null,
      "outputs": []
    },
    {
      "cell_type": "code",
      "metadata": {
        "id": "aBdG_lMS4d5b"
      },
      "source": [
        "!bash padel.sh"
      ],
      "execution_count": null,
      "outputs": []
    },
    {
      "cell_type": "code",
      "metadata": {
        "id": "A7v0BFi15h2r"
      },
      "source": [
        "smiles_X = pd.read_csv('descriptors_output.csv')\n",
        "smiles_X.to_csv('descriptors_output_ledum.csv', index = False)\n",
        "! cp descriptors_output_ledum.csv \"/content/gdrive/My Drive/Colab Notebooks/Major_project\""
      ],
      "execution_count": null,
      "outputs": []
    },
    {
      "cell_type": "markdown",
      "metadata": {
        "id": "g7SVh28qL8jL"
      },
      "source": [
        "# **PART 4 - REGRESSION MODELS WITH RANDOM FOREST** "
      ]
    },
    {
      "cell_type": "markdown",
      "metadata": {
        "id": "9WTYkxt1MgRX"
      },
      "source": [
        "Import the required libraries"
      ]
    },
    {
      "cell_type": "code",
      "metadata": {
        "id": "KV6XiTPqNh_m"
      },
      "source": [
        "import pandas as pd\n",
        "import seaborn as sns\n",
        "from sklearn.model_selection import train_test_split\n",
        "from sklearn.ensemble import RandomForestRegressor"
      ],
      "execution_count": null,
      "outputs": []
    },
    {
      "cell_type": "code",
      "metadata": {
        "id": "Llb0uSsgNmnK"
      },
      "source": [
        "df_4 = pd.read_csv('bioactivity_data_3class_pIC50_pubchem_fp.csv')"
      ],
      "execution_count": null,
      "outputs": []
    },
    {
      "cell_type": "markdown",
      "metadata": {
        "id": "P7okGOjvPN_J"
      },
      "source": [
        "Input Features"
      ]
    },
    {
      "cell_type": "code",
      "metadata": {
        "id": "28F9MdmXPSwG"
      },
      "source": [
        "X = df_4.drop('pIC50', axis=1)"
      ],
      "execution_count": null,
      "outputs": []
    },
    {
      "cell_type": "markdown",
      "metadata": {
        "id": "vRbmPKquPYWM"
      },
      "source": [
        "Output features"
      ]
    },
    {
      "cell_type": "code",
      "metadata": {
        "id": "hsT5YVeDPZ0N"
      },
      "source": [
        "Y = df_4.pIC50"
      ],
      "execution_count": null,
      "outputs": []
    },
    {
      "cell_type": "code",
      "metadata": {
        "id": "I5XrVfRP6sXA"
      },
      "source": [
        "smiles_X_ledum = pd.read_csv('descriptors_output_ledum.csv')\n",
        "smiles_X_ledum = smiles_X_ledum.drop('Name', axis=1)"
      ],
      "execution_count": null,
      "outputs": []
    },
    {
      "cell_type": "markdown",
      "metadata": {
        "id": "98uWi77mQEJ-"
      },
      "source": [
        "Removing low variance features"
      ]
    },
    {
      "cell_type": "code",
      "metadata": {
        "id": "zF7QBJk9Q4Lq"
      },
      "source": [
        "from sklearn.feature_selection import VarianceThreshold\n",
        "selection_vt = VarianceThreshold(threshold=(.8 * (1 - .8)))   \n",
        "_ = selection_vt.fit(X)\n",
        "mask = selection_vt.get_support()\n",
        "X = X.loc[:, mask]"
      ],
      "execution_count": null,
      "outputs": []
    },
    {
      "cell_type": "code",
      "metadata": {
        "id": "MEh8zBW-1__K"
      },
      "source": [
        "X_columns = X.columns.tolist()"
      ],
      "execution_count": null,
      "outputs": []
    },
    {
      "cell_type": "code",
      "metadata": {
        "id": "nyCl0IlH57GL"
      },
      "source": [
        "smiles_X_ledum = smiles_X_ledum.filter(X_columns)"
      ],
      "execution_count": null,
      "outputs": []
    },
    {
      "cell_type": "markdown",
      "metadata": {
        "id": "9StPFBz8SNwH"
      },
      "source": [
        "Data split (80/20)"
      ]
    },
    {
      "cell_type": "code",
      "metadata": {
        "id": "AIuQiKm1b0--"
      },
      "source": [
        "X_train, X_test, Y_train, Y_test = train_test_split(X, Y, test_size=0.2)"
      ],
      "execution_count": null,
      "outputs": []
    },
    {
      "cell_type": "code",
      "metadata": {
        "id": "MD5c7gjNb4BP"
      },
      "source": [
        "X_train.shape, Y_train.shape"
      ],
      "execution_count": null,
      "outputs": []
    },
    {
      "cell_type": "code",
      "metadata": {
        "id": "jTrKo2wTb7cb"
      },
      "source": [
        "X_test.shape, Y_test.shape"
      ],
      "execution_count": null,
      "outputs": []
    },
    {
      "cell_type": "markdown",
      "metadata": {
        "id": "O0-foC5Ib-Nw"
      },
      "source": [
        "Building a Regression Model using Random Forest"
      ]
    },
    {
      "cell_type": "code",
      "metadata": {
        "id": "KUIMuoJAb_Ks"
      },
      "source": [
        "import numpy as np\n",
        "np.random.seed(100)\n",
        "model = RandomForestRegressor(n_estimators=250, oob_score=True, max_depth=10)\n",
        "model.fit(X_train, Y_train)\n",
        "r2 = model.score(X_test, Y_test)"
      ],
      "execution_count": null,
      "outputs": []
    },
    {
      "cell_type": "code",
      "metadata": {
        "id": "JtqZcvIY3hpm"
      },
      "source": [
        "print(f'Out-of-bag score estimate: {model.oob_score_:.3}')"
      ],
      "execution_count": null,
      "outputs": []
    },
    {
      "cell_type": "code",
      "metadata": {
        "id": "vaEmkXvounlS"
      },
      "source": [
        "Y_pred = model.predict(X_test)"
      ],
      "execution_count": null,
      "outputs": []
    },
    {
      "cell_type": "markdown",
      "metadata": {
        "id": "oJahG2jls5bE"
      },
      "source": [
        "\n",
        "**Determine Performance Metrics**"
      ]
    },
    {
      "cell_type": "markdown",
      "metadata": {
        "id": "TLzCmgIWs821"
      },
      "source": [
        "Predicting Mean Absolute Error (MAE)"
      ]
    },
    {
      "cell_type": "code",
      "metadata": {
        "id": "btQke18UTRSf"
      },
      "source": [
        "from sklearn.metrics import mean_absolute_error\n",
        "mean_absolute_error(Y_test, Y_pred)"
      ],
      "execution_count": null,
      "outputs": []
    },
    {
      "cell_type": "markdown",
      "metadata": {
        "id": "NF48AhH0UX-m"
      },
      "source": [
        "Predicting Mean Squared Error (MSE)"
      ]
    },
    {
      "cell_type": "code",
      "metadata": {
        "id": "tT8ONl-6T6nK"
      },
      "source": [
        "from sklearn.metrics import mean_squared_error\n",
        "mean_squared_error(Y_test, Y_pred)"
      ],
      "execution_count": null,
      "outputs": []
    },
    {
      "cell_type": "markdown",
      "metadata": {
        "id": "LXhud-VERcv6"
      },
      "source": [
        "Predicting Root Mean Squared Error (RMSE)"
      ]
    },
    {
      "cell_type": "code",
      "metadata": {
        "id": "aBEL6CtaRdhA"
      },
      "source": [
        "from sklearn.metrics import mean_squared_error\n",
        "mean_squared_error(Y_test, Y_pred, squared = False)"
      ],
      "execution_count": null,
      "outputs": []
    },
    {
      "cell_type": "markdown",
      "metadata": {
        "id": "xU_Gwa43urYe"
      },
      "source": [
        "Scatter Plot of Experimental vs Predicted pIC50 Values"
      ]
    },
    {
      "cell_type": "code",
      "metadata": {
        "id": "ZGM1WkphusQF"
      },
      "source": [
        "import seaborn as sns\n",
        "import matplotlib.pyplot as plt\n",
        "\n",
        "sns.set(color_codes=True)\n",
        "sns.set_style(\"white\")\n",
        "\n",
        "ax = sns.regplot(Y_test, Y_pred, scatter_kws={'alpha':0.4})\n",
        "ax.set_xlabel('Experimental pIC50', fontsize='large', fontweight='bold')\n",
        "ax.set_ylabel('Predicted pIC50', fontsize='large', fontweight='bold')\n",
        "ax.set_xlim(0, 12)\n",
        "ax.set_ylim(0, 12)\n",
        "ax.figure.set_size_inches(5, 5)\n",
        "plt.show"
      ],
      "execution_count": null,
      "outputs": []
    },
    {
      "cell_type": "markdown",
      "metadata": {
        "id": "w9DbiAH2MUnT"
      },
      "source": [
        "**Creating the Feature Importance graph**"
      ]
    },
    {
      "cell_type": "code",
      "metadata": {
        "id": "G_Y1wDJ3dr22"
      },
      "source": [
        "import matplotlib.pyplot as plt\n",
        "from matplotlib.pyplot import figure\n",
        "import seaborn as sns\n",
        "\n",
        "figure(num=None, figsize=(7,7), dpi=80, facecolor='w', edgecolor='k')\n",
        "\n",
        "feat_importances = pd.Series(model.feature_importances_, index= X.columns)\n",
        "feat_importances.nlargest(10).plot(kind='barh')\n",
        "\n",
        "\n",
        "plt.xlabel('Feature Importance Score')\n",
        "plt.ylabel('Features')\n",
        "plt.title(\"Visualizing Important Features\")\n",
        "plt.show()"
      ],
      "execution_count": null,
      "outputs": []
    },
    {
      "cell_type": "markdown",
      "metadata": {
        "id": "uxB1f6q2Mjju"
      },
      "source": [
        "Creating the list of the top 10 important features"
      ]
    },
    {
      "cell_type": "code",
      "metadata": {
        "id": "Mg-F2CQ2x-LT"
      },
      "source": [
        "top_10=feat_importances.nlargest(10)\n",
        "top_10_list = top_10.index.to_list()"
      ],
      "execution_count": null,
      "outputs": []
    },
    {
      "cell_type": "markdown",
      "metadata": {
        "id": "pSbJfuF4L6_I"
      },
      "source": [
        "**Predicting the pIC50 values for the Ledum Palustre metabolites**"
      ]
    },
    {
      "cell_type": "code",
      "metadata": {
        "id": "HYoAeTYR6HM3"
      },
      "source": [
        "Y_pred_smiles = model.predict(smiles_X_ledum)"
      ],
      "execution_count": null,
      "outputs": []
    },
    {
      "cell_type": "code",
      "metadata": {
        "id": "9dJ8oFLWCJDV"
      },
      "source": [
        "import numpy as np\n",
        "ledum_pal.columns = ['Smiles']\n",
        "\n",
        "Y_pred_smiles = pd.DataFrame(Y_pred_smiles)\n",
        "Y_pred_smiles.columns = ['pIC50']\n",
        "\n",
        "df_ledum = pd.concat([ledum_pal, Y_pred_smiles], axis = 1)\n",
        "\n",
        "df_ledum.to_csv('Final_ledum_pal.csv', index = False)\n",
        "! cp Final_ledum_pal.csv \"/content/gdrive/My Drive/Colab Notebooks/Major_project\""
      ],
      "execution_count": null,
      "outputs": []
    }
  ]
}